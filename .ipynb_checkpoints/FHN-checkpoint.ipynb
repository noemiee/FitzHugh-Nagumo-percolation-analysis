{
 "cells": [
  {
   "cell_type": "code",
   "execution_count": 1,
   "id": "96aeabee-1c5f-4661-a673-ebd22ac9eead",
   "metadata": {},
   "outputs": [],
   "source": [
    "import numpy as np\n",
    "from scipy import signal\n",
    "import matplotlib.pyplot as plt\n",
    "import pandas as pd\n",
    "import networkx as nx\n",
    "from joblib import Parallel, delayed\n",
    "import multiprocessing\n",
    "import pickle as pckl\n",
    "import matplotlib.animation as animation\n",
    "import progressbar\n",
    "from scipy.signal import argrelextrema\n",
    "from scipy.cluster.vq import kmeans, vq\n",
    "from mpl_toolkits.axes_grid1.inset_locator import inset_axes\n",
    "import os\n",
    "from matplotlib import cm\n",
    "from mpl_toolkits.axes_grid1 import make_axes_locatable\n",
    "from matplotlib.colors import BoundaryNorm\n",
    "from matplotlib.ticker import MaxNLocator\n",
    "from matplotlib.gridspec import GridSpec\n",
    "from matplotlib import ticker\n",
    "from tqdm import tqdm\n"
   ]
  },
  {
   "cell_type": "markdown",
   "id": "bc202034-a602-42dd-94ac-7931c9bb6cf5",
   "metadata": {},
   "source": [
    "# Functions"
   ]
  },
  {
   "cell_type": "markdown",
   "id": "855e60a9-f9cd-4409-bf3b-cc40df0f4885",
   "metadata": {
    "tags": []
   },
   "source": [
    "#### integration functions"
   ]
  },
  {
   "cell_type": "code",
   "execution_count": 2,
   "id": "bd146b71-0b9d-4caf-a562-a3db9ad0c978",
   "metadata": {
    "tags": []
   },
   "outputs": [],
   "source": [
    "# define the right hand side of the FHN system \n",
    "# 1D, periodic BC\n",
    "def fhn(phi, epsilon = 0.01, alpha = 0.1, dx=1.):\n",
    "    u = phi[0]\n",
    "    v = phi[1]\n",
    "\n",
    "    grad2_u = []\n",
    "    grad2_u.append((u[1]+u[-1]-2*u[0])/dx**2)\n",
    "    for i in range(1,len(u)-1):\n",
    "            grad2_u.append((u[(i+1)]+u[(i-1)]-2*u[i])/dx**2)\n",
    "    grad2_u.append((u[-2]+u[0]-2*u[-1])/dx**2)\n",
    "    grad2_u = np.array(grad2_u)\n",
    "    \n",
    "    grad2_v = []\n",
    "    grad2_v.append((v[1]+v[-1]-2*v[0])/dx**2)\n",
    "    for i in range(1,len(v)-1):\n",
    "            grad2_v.append((v[(i+1)]+v[(i-1)]-2*v[i])/dx**2)\n",
    "    grad2_v.append((v[-2]+v[0]-2*v[-1])/dx**2)\n",
    "    grad2_v = np.array(grad2_v)\n",
    "\n",
    "    new_u =   grad2_u + u - u**3 - v\n",
    "    new_v =   epsilon*(grad2_v +  u - alpha*v) \n",
    "    \n",
    "    new_phi = np.array([new_u, new_v])\n",
    "    return new_phi\n",
    "\n",
    "\n",
    "# Runge-Kutta 4\n",
    "def rk4(phi0, dt, epsilon, alpha, dx):\n",
    "    k1 = dt * fhn(phi0, epsilon, alpha, dx)\n",
    "    k2 = dt * fhn(phi0+k1/2., epsilon, alpha, dx)\n",
    "    k3 = dt * fhn(phi0+k2/2., epsilon, alpha, dx)\n",
    "    k4 = dt * fhn(phi0+k3, epsilon, alpha, dx)\n",
    "    k = (k1+2*k2+2*k3+k4)/6.\n",
    "    return phi0 + k"
   ]
  },
  {
   "cell_type": "code",
   "execution_count": 3,
   "id": "d2b6c2a6-00c3-4918-87b3-912a4e5b1988",
   "metadata": {
    "tags": []
   },
   "outputs": [],
   "source": [
    "# integration of the FHN system with epsilon varying in time \n",
    "def evolve_phi(phi0, Nt, dt, Nx, dx, epsilon, alpha, noise_amplitude):\n",
    "    phi = phi0.copy()   \n",
    "    PHI = np.empty((2, Nx, Nt)) \n",
    "    \n",
    "    # evolve\n",
    "    for t in tqdm(range(Nt)):\n",
    "        # store current phi version\n",
    "        PHI[:,:, t] = phi.copy()\n",
    "        # update phi\n",
    "        phi = rk4(phi, dt, epsilon, alpha, dx)\n",
    "        # add noise\n",
    "        noise = np.random.normal(0.0, 1, (2,Nx))\n",
    "        noise[1,:] = epsilon*noise[1,:]\n",
    "        phi += noise_amplitude*noise\n",
    "        # choose a new epsilon value after each complete oscillation of the system\n",
    "        if t > 1:\n",
    "            mu_0 = np.mean(PHI[0,:,t-1])  \n",
    "            mu = np.mean(PHI[0,:,t])\n",
    "            if (mu_0 < 0) & (mu >= 0):\n",
    "                # epsilon chosen randomly\n",
    "                epsilon = np.random.uniform(0.0001, 0.033)    \n",
    "    return PHI"
   ]
  },
  {
   "cell_type": "markdown",
   "id": "57cbd466-99e2-44ea-91aa-6de9b44f8918",
   "metadata": {},
   "source": [
    "#### network construction functions"
   ]
  },
  {
   "cell_type": "code",
   "execution_count": 4,
   "id": "4bc71dc4-4c24-4c21-a3b6-80a111aa42c3",
   "metadata": {
    "tags": []
   },
   "outputs": [],
   "source": [
    "def gamma_loop(rho2, Nx, num_segments, gamma):\n",
    "    # rho2 -- list of correlation matrices, definning the time-evolving network \n",
    "    # Nx -- number of spatial points (network nodes)\n",
    "    # num_segments -- number of correlation matrices / of time steps in the evolution of the network \n",
    "    # gamma -- correlation threshold for the network construction\n",
    "    \n",
    "    S1_line = np.zeros(num_segments) # size of the largest connected component in the time-evolving network\n",
    "    av_s_line = np.zeros(num_segments) # average size of remaining components (ie excluding S1) \n",
    "    c2_line = np.zeros(num_segments) # probability that a randomly chosen node belongs to a component of size 2\n",
    "    \n",
    "    for time_step in range(num_segments):\n",
    "        G=nx.Graph()\n",
    "        G.add_nodes_from(list(range(Nx)))\n",
    "        # create edge list\n",
    "        edge_list = []\n",
    "        indices = np.where(rho2[time_step] > gamma)\n",
    "        edge_list= zip(indices[0],indices[1])\n",
    "        # append edges to graph\n",
    "        G.add_edges_from(edge_list)\n",
    "        # largest connected component\n",
    "        lcc = [len(c) for c in sorted(nx.connected_components(G), key=len, reverse=True)]\n",
    "        S1_line[time_step] = lcc[0]/Nx\n",
    "        # average size of smaller components\n",
    "        sizes, counts = np.unique(lcc[1:], return_counts = True)\n",
    "        av_s_line[time_step] = np.sum(sizes**2*counts)\n",
    "        # probability that a node belongs to a cluster of given size s\n",
    "        cs = sizes*counts/Nx\n",
    "        if 2 in sizes:\n",
    "            c2_line[time_step]=cs[sizes == 2]\n",
    "\n",
    "    return [gamma, S1_line, av_s_line, c2_line]"
   ]
  },
  {
   "cell_type": "markdown",
   "id": "a7b44aeb-bce4-4c14-af37-052bd01be470",
   "metadata": {},
   "source": [
    "# Integragion"
   ]
  },
  {
   "cell_type": "code",
   "execution_count": 6,
   "id": "89ea50f8-5fd2-4be5-87b8-270695a128a0",
   "metadata": {},
   "outputs": [
    {
     "name": "stderr",
     "output_type": "stream",
     "text": [
      "  0%|          | 8/16000 [00:00<03:23, 78.51it/s]"
     ]
    },
    {
     "name": "stdout",
     "output_type": "stream",
     "text": [
      "Successfully created the directory ./scenario_test \n",
      "Summary:\n",
      "Simulation parameters -- L= 500.0 , dx= 1.0 , Nx= 500 T= 800.0 , dt= 0.05 , Nt= 16000\n",
      "Model parameters -- epsilon= 0.01 , alpha= -0.83 , C= 0.01 , D= 1\n"
     ]
    },
    {
     "name": "stderr",
     "output_type": "stream",
     "text": [
      "100%|██████████| 16000/16000 [02:40<00:00, 99.91it/s] \n"
     ]
    }
   ],
   "source": [
    "# create a folder for the new experiment\n",
    "folder_name = \"./scenario_test\"\n",
    "\n",
    "try:\n",
    "    os.mkdir(folder_name)\n",
    "except OSError:\n",
    "    raise OSError(\"The directory already exists.\")\n",
    "else:\n",
    "    print (\"Successfully created the directory %s \" % folder_name)\n",
    "\n",
    "# model parameters\n",
    "epsilon = 0.01\n",
    "alpha = -0.83\n",
    "# noise\n",
    "C=0.01 \n",
    "\n",
    "# define the model and simulation parameters\n",
    "T = 800.\n",
    "Nt =16000\n",
    "dt = T/Nt\n",
    "L = 500.\n",
    "Nx = 500\n",
    "dx = L/Nx\n",
    "\n",
    "\n",
    "# store the parameters in a text file\n",
    "Parameters = {\"T\": T, \"Nt\": Nt, \"dt\": dt, \"L\": L, \"Nx\": Nx, \"dx\": dx, \"epsilon\": epsilon, \"alpha\": alpha, \"C\": C, \"D\": 1}\n",
    "print(\"Summary:\")    \n",
    "print(\"Simulation parameters -- L=\", Parameters[\"L\"], \", dx=\", Parameters[\"dx\"], \", Nx=\", Parameters[\"Nx\"], \"T=\", Parameters[\"T\"], \", dt=\", Parameters[\"dt\"], \", Nt=\", Parameters[\"Nt\"])\n",
    "print(\"Model parameters -- epsilon=\", Parameters[\"epsilon\"], \", alpha=\", Parameters[\"alpha\"], \", C=\", Parameters[\"C\"], \", D=\",Parameters[\"D\"])\n",
    "    \n",
    "with open(folder_name +'/params.txt', 'w') as f:\n",
    "    for key, value in Parameters.items(): \n",
    "        f.write('%s:%s\\n' % (key, value))\n",
    "        f.write('\\n')\n",
    "        \n",
    "        \n",
    "        \n",
    "### EVOLVE PHI ###\n",
    "noise_amplitude = np.sqrt(2.*C*dt/dx) # noise amplitude\n",
    "phi0 = np.array([0.0*np.random.normal(0.0, 1., Nx)-0.16, 0.0*np.random.normal(0.0, 1., Nx)+0.01]) # intial condition\n",
    "PHI = evolve_phi(phi0, Nt, dt, Nx, dx, epsilon, alpha, noise_amplitude) \n",
    "u = PHI[0,:,:] # matrix for u of size (num_x, num_time_step)\n",
    "v = PHI[1,:,:]\n",
    "tt_PHI = (np.array(range(Nt)))*dt  # time axis associated with the values in PHI\n",
    "\n",
    "\n",
    "### SAVE PHI ###\n",
    "filename = folder_name+'/PHI.pckl'\n",
    "outfile = open(filename,'wb')\n",
    "pckl.dump(PHI,outfile)\n",
    "outfile.close()"
   ]
  },
  {
   "cell_type": "markdown",
   "id": "b7957b24-a5c2-453f-8367-af755a297b21",
   "metadata": {},
   "source": [
    "# Figure"
   ]
  },
  {
   "cell_type": "code",
   "execution_count": 7,
   "id": "4ee660ca-c4c1-4694-8485-a88dd98f29ca",
   "metadata": {},
   "outputs": [
    {
     "data": {
      "image/png": "[encoded data removed]",
      "text/plain": [
       "<Figure size 864x432 with 6 Axes>"
      ]
     },
     "metadata": {
      "needs_background": "light"
     },
     "output_type": "display_data"
    }
   ],
   "source": [
    "# sub-period of the complete time series for plotting and analysis\n",
    "init_i = 4000\n",
    "final_i = 14000+140\n",
    "\n",
    "\n",
    "## Plot evolution\n",
    "fig = plt.figure(figsize = (12,6))\n",
    "gs = GridSpec(2, 2, figure=fig)\n",
    "\n",
    "## create sub plots as grid\n",
    "ax11 = fig.add_subplot(gs[0, 0])\n",
    "ax12 = fig.add_subplot(gs[0, 1])\n",
    "ax21 = fig.add_subplot(gs[1, 0])\n",
    "ax22 = fig.add_subplot(gs[1, 1])\n",
    "\n",
    "divider11 = make_axes_locatable(ax11)\n",
    "divider21 = make_axes_locatable(ax21)\n",
    "\n",
    "plt.subplots_adjust(wspace=0.42, hspace=0.3)\n",
    "################ spatio-temporal evolution #########\n",
    "yspace = np.array(range(Nx))\n",
    "xt, ys = np.meshgrid(tt_PHI,yspace)\n",
    "\n",
    "im1 = ax11.contourf(xt, ys, PHI[0,:,:],15)\n",
    "cax1 = divider11.append_axes(\"right\", size=\"5%\", pad=0.1)\n",
    "cb11 = fig.colorbar(im1, cax=cax1)\n",
    "tick_locator = ticker.MaxNLocator(nbins=5)\n",
    "cb11.locator = tick_locator\n",
    "cb11.update_ticks()\n",
    "\n",
    "\n",
    "\n",
    "ax11.set_ylabel('Nodes', fontsize=14)\n",
    "ax11.set_xlim((init_i)*dt, dt*(final_i))\n",
    "ax11.yaxis.set_major_locator(MaxNLocator(3)) \n",
    "\n",
    "im2 = ax21.contourf(xt, ys, PHI[1,:,:],15)\n",
    "cax21 = divider21.append_axes(\"right\", size=\"5%\", pad=0.1)\n",
    "cb21 = fig.colorbar(im2, cax=cax21)\n",
    "tick_locator = ticker.MaxNLocator(nbins=5)\n",
    "cb21.locator = tick_locator\n",
    "cb21.update_ticks()\n",
    "\n",
    "\n",
    "\n",
    "\n",
    "ax21.set_xlabel('Time', fontsize=14)\n",
    "ax21.set_ylabel('Nodes', fontsize=14)\n",
    "ax21.set_xlim((init_i)*dt, dt*(final_i))\n",
    "ax21.yaxis.set_major_locator(MaxNLocator(3)) \n",
    "\n",
    "################ temporal evolution #########\n",
    "\n",
    "ax12.plot(tt_PHI,PHI[0,20,:], label = 'u', linewidth=3, alpha = 1)\n",
    "\n",
    "ax12.set_xlim((init_i)*dt, dt*(final_i))\n",
    "ax12.set_ylabel('u', fontsize=14, rotation=\"horizontal\")\n",
    "ax12.yaxis.set_major_locator(MaxNLocator(3)) \n",
    "\n",
    "ax22.plot(tt_PHI,PHI[1,250,:], label = 'v', linewidth=3, alpha = 1)\n",
    "\n",
    "ax22.set_xlim((init_i)*dt, dt*(final_i))\n",
    "ax22.set_ylabel('v', fontsize=14, rotation=\"horizontal\")\n",
    "ax22.set_xlabel('Time', fontsize=14)\n",
    "ax22.yaxis.set_major_locator(MaxNLocator(3)) \n",
    "\n",
    "################ save ################\n",
    "plt.savefig(folder_name+\"solution-FHN.png\", dpi = 600 )"
   ]
  },
  {
   "cell_type": "markdown",
   "id": "e0940f68-106b-424d-bed9-ce90c90dc3fc",
   "metadata": {},
   "source": [
    "## Network and percolation measures "
   ]
  },
  {
   "cell_type": "code",
   "execution_count": 8,
   "id": "0c32d3f7-3ae3-4d6a-ba2a-b95e7085d20e",
   "metadata": {},
   "outputs": [
    {
     "name": "stdout",
     "output_type": "stream",
     "text": [
      "Successfully created the directory /e1 \n"
     ]
    }
   ],
   "source": [
    "subfolder = \"/e1\"\n",
    "\n",
    "try:\n",
    "    os.mkdir(folder_name+subfolder)\n",
    "except OSError:\n",
    "    raise OSError(\"The directory already exists.\")\n",
    "else:\n",
    "    print (\"Successfully created the directory %s \" % subfolder)\n",
    "\n",
    "\n",
    "# for the time-dependent network:\n",
    "num_t = 140 # number of time steps per sub-sequence\n",
    "step = 5 # number of time steps between consecutive sub-sequences\n",
    "num_thresholds = 10 # number of correlation thresholds to test\n",
    "\n",
    "Gammas_nd = np.linspace(0.6, 0.7, num_thresholds, endpoint=True) # set of correlation threshold(s) for the nework contruction with *non-detrended* data \n",
    "Gammas_d = np.linspace(0.48, 0.58, num_thresholds, endpoint=True) # set of correlation threshold(s) for the nework contruction with *detrended* data\n",
    "\n",
    "# store the network parameters \n",
    "network_parameters = {\"init_i\": init_i, \"final_i\": final_i, \"num_t\": num_t, \"step\": step, \"Gammas_nd\": Gammas_nd, \"Gammas_d\": Gammas_d}\n",
    "with open(folder_name+subfolder +'/net_params.txt', 'w') as f:\n",
    "    for key, value in network_parameters.items(): \n",
    "        f.write('%s:%s\\n' % (key, value))\n",
    "        f.write('\\n')"
   ]
  },
  {
   "cell_type": "markdown",
   "id": "fab63a8e-937f-4fb3-b716-779ca565f56a",
   "metadata": {},
   "source": [
    "### For the non-detrended data"
   ]
  },
  {
   "cell_type": "code",
   "execution_count": 9,
   "id": "b5d5fdb6-69b1-4013-8619-11174c637043",
   "metadata": {},
   "outputs": [
    {
     "name": "stderr",
     "output_type": "stream",
     "text": [
      "  0%|          | 2/2028 [00:00<02:44, 12.31it/s]"
     ]
    },
    {
     "name": "stdout",
     "output_type": "stream",
     "text": [
      "Computing the correlation matrices\n"
     ]
    },
    {
     "name": "stderr",
     "output_type": "stream",
     "text": [
      "100%|██████████| 2028/2028 [02:41<00:00, 12.59it/s]\n",
      " 10%|█         | 1/10 [00:00<00:01,  8.36it/s]"
     ]
    },
    {
     "name": "stdout",
     "output_type": "stream",
     "text": [
      "computing  2028  networks for each of the  10  thresholds.\n"
     ]
    },
    {
     "name": "stderr",
     "output_type": "stream",
     "text": [
      "100%|██████████| 10/10 [00:01<00:00,  7.42it/s]\n"
     ]
    }
   ],
   "source": [
    "###################################################################################\n",
    "################## devide the time evolution in sub-sequences ##################### \n",
    "\n",
    "u_s = [PHI[0,:,i:i+num_t] for i in range(init_i,final_i,step)]\n",
    "u_s = np.array(u_s, dtype = np.float16) # shape (num_segments, num_x, num_t)\n",
    "Ns = u_s.shape[0] # number of sub-sequences\n",
    "\n",
    "\n",
    "###################################################################################\n",
    "########### compute correlation matrices for each of the Ns sub-sets ##############\n",
    "print(\"Computing the correlation matrices\")\n",
    "\n",
    "# check if the correlation matrices have already been computed\n",
    "if os.path.exists(folder_name+'/rho2.pckl'):\n",
    "    # load rho  \n",
    "    f = open(folder_name+'/rho2.pckl', 'rb')\n",
    "    rho2 = pckl.load(f)\n",
    "    f.close()\n",
    "else:\n",
    "    rho2 = [] # container for the correlation matrices    \n",
    "    for time_step in tqdm(range(Ns)):\n",
    "        rho2.append(pd.DataFrame(data=((u_s[time_step, :,:].real).transpose())).corr(method='pearson'))\n",
    "\n",
    "    filename = folder_name+'/rho2.pckl'\n",
    "    outfile = open(filename,'wb')\n",
    "    pckl.dump(rho2,outfile)\n",
    "    outfile.close()\n",
    "\n",
    "\n",
    "    \n",
    "###################################################################################\n",
    "### inteprete the correlation matrices as networks and compute network measures ###\n",
    "print('computing ', Ns, ' networks for each of the ', len(Gammas_nd), ' thresholds.')    \n",
    "Result = Parallel(n_jobs=10)(delayed(gamma_loop)(rho2, Nx, Ns, gamma) for  gamma in tqdm(Gammas_nd))\n",
    "measures_nd = pd.DataFrame(np.array(Result), columns=[\"Gamma\", \"S1\", \"av_s\", \"c2\"])\n",
    "\n",
    "###################################################################################\n",
    "################################## store results ##################################\n",
    "\n",
    "filename = folder_name+subfolder+'/measures_nd.pckl'\n",
    "outfile = open(filename,'wb')\n",
    "pckl.dump(measures_nd,outfile)\n",
    "outfile.close()"
   ]
  },
  {
   "cell_type": "markdown",
   "id": "b6c9b222-961e-4ecd-a391-ce15bdf5c201",
   "metadata": {},
   "source": [
    "### For the detrended data"
   ]
  },
  {
   "cell_type": "code",
   "execution_count": null,
   "id": "d7074c4b-3cd7-45f7-ba25-5a1e694bb313",
   "metadata": {
    "tags": []
   },
   "outputs": [
    {
     "name": "stdout",
     "output_type": "stream",
     "text": [
      "detrending data\n"
     ]
    }
   ],
   "source": [
    "###################################################################################\n",
    "############################# detrend time series #################################\n",
    "if os.path.exists(folder_name+subfolder+'/smoothed_u.pckl'):\n",
    "    # load rho  \n",
    "    f = open(folder_name+subfolder+'/smoothed_u.pckl', 'rb')\n",
    "    smoothed_u = pckl.load(f)\n",
    "    f.close()\n",
    "else:\n",
    "    print(\"detrending data\")\n",
    "    bandwidth = 40\n",
    "    smoothed_u = np.empty((Nx, Nt))\n",
    "    for t in range(Nt):\n",
    "        kernel = np.exp(-((np.array(range(Nt)) - t) ** 2) / (2 * (bandwidth ** 2)))\n",
    "        kernel /= kernel.sum()\n",
    "        smoothed_u[:,t] = np.sum(PHI[0,:,:]*kernel, axis=1)        \n",
    "    ### store the detrended data\n",
    "    filename = folder_name+subfolder+'/smoothed_u.pckl'\n",
    "    outfile = open(filename,'wb')\n",
    "    pckl.dump(smoothed_u,outfile)\n",
    "    outfile.close()\n",
    "    \n",
    "\n",
    "###################################################################################\n",
    "################## devide the time evolution in sub-sequences #####################\n",
    "\n",
    "u_s = [PHI[0,:,i:i+num_t]- smoothed_u[:,i:i+num_t]  for i in range(init_i,final_i,step)] # devide the time evolution in sub-sequences \n",
    "u_s = np.array(u_s, dtype = np.float16) # shape (num_segments, num_x, num_t)\n",
    "Ns = u_s.shape[0] # number of sub-sequences\n",
    "\n",
    "\n",
    "###################################################################################\n",
    "########### compute correlation matrices for each of the Ns sub-sets ##############\n",
    "print(\"Computing the correlation matrices\")\n",
    "\n",
    "# check if the correlation matrices have already been computed\n",
    "if os.path.exists(folder_name+'/rho2d.pckl'):\n",
    "    # load rho  \n",
    "    f = open(folder_name+'/rho2d.pckl', 'rb')\n",
    "    rho2d = pckl.load(f)\n",
    "    f.close()\n",
    "else:\n",
    "    rho2d = [] # container for the correlation matrices    \n",
    "    for time_step in tqdm(range(Ns)):\n",
    "        rho2d.append(pd.DataFrame(data=((u_s[time_step, :,:].real).transpose())).corr(method='pearson'))\n",
    "\n",
    "    filename = folder_name+'/rho2d.pckl'\n",
    "    outfile = open(filename,'wb')\n",
    "    pckl.dump(rho2d,outfile)\n",
    "    outfile.close()\n",
    "\n",
    "\n",
    "    \n",
    "###################################################################################\n",
    "### inteprete the correlation matrices as networks and compute network measures ###\n",
    "print('computing ', Ns, ' networks for each of the ', len(Gammas_d), ' thresholds.')    \n",
    "Result = Parallel(n_jobs=10)(delayed(gamma_loop)(rho2, Nx, Ns, gamma) for  gamma in tqdm(Gammas_d))\n",
    "measures_d = pd.DataFrame(np.array(Result), columns=[\"Gamma\", \"S1\", \"av_s\", \"c2\"])\n",
    "\n",
    "###################################################################################\n",
    "################################## store results ##################################\n",
    "\n",
    "filename = folder_name+subfolder+'/measures_d.pckl'\n",
    "outfile = open(filename,'wb')\n",
    "pckl.dump(measures_d,outfile)\n",
    "outfile.close()"
   ]
  },
  {
   "cell_type": "markdown",
   "id": "a31a6c8e-69a6-41e5-b076-70583ffb2533",
   "metadata": {},
   "source": [
    "## Variance"
   ]
  },
  {
   "cell_type": "code",
   "execution_count": null,
   "id": "a29ba786-11d8-4913-937c-552c8245cdf4",
   "metadata": {},
   "outputs": [],
   "source": [
    "# compute variabce\n",
    "var_s = [np.var(PHI[0,:,i]) for i in range(Nt)] # devide the time evolution in sub-sequences  \n",
    "var_s = np.array(var_s, dtype = np.float16) # shape (num_segments, num_x, num_t)"
   ]
  },
  {
   "cell_type": "markdown",
   "id": "d7c28992-f57b-4396-af96-639c29f7b992",
   "metadata": {},
   "source": [
    "# Figures"
   ]
  },
  {
   "cell_type": "code",
   "execution_count": null,
   "id": "f5c9b028-dc8b-4282-a914-8d9648e745ea",
   "metadata": {},
   "outputs": [],
   "source": [
    "# compute the spatial mean of PHI\n",
    "PHI_mean = np.mean(PHI, axis = 1)\n",
    "\n",
    "# define the time axis associated with the values in S1 and c2\n",
    "tt_measures = (np.array(range(init_i, final_i, step))+num_t)*dt"
   ]
  },
  {
   "cell_type": "markdown",
   "id": "1d1a3ec2-2001-4996-a9a5-de0139afd0f6",
   "metadata": {},
   "source": [
    "### non-detrended data"
   ]
  },
  {
   "cell_type": "code",
   "execution_count": null,
   "id": "6e5d4e71-0e7e-444a-90e1-dade7834c437",
   "metadata": {},
   "outputs": [],
   "source": [
    "# select the threshold value to plot time series for    \n",
    "gidx_nd = 1\n",
    "print(\"Chosen threshold for plotting the non-detrended data: \", measures_nd[\"Gamma\"][gidx_nd])\n",
    "gamma_str_nd = str(measures_nd[\"Gamma\"][gidx_nd]) # string used in the figures legend\n",
    "gamma_str_nd = gamma_str_nd.replace('.', 'p',1)\n",
    "\n",
    "# time series of the percolation measures\n",
    "S1 = measures_nd[\"S1\"][gidx_nd]\n",
    "c2 = measures_nd[\"c2\"][gidx_nd]\n",
    "\n",
    "# smooth the c2 curve for claritiy of the figure\n",
    "bandwidth = 20\n",
    "smoothed_c2 = []\n",
    "for t in range(bandwidth, len(c2)-bandwidth+1):\n",
    "    smoothed_c2.append(np.mean(c2[t-bandwidth:t+bandwidth]))\n",
    "smoothed_c2 = np.array(smoothed_c2)\n"
   ]
  },
  {
   "cell_type": "code",
   "execution_count": null,
   "id": "a6f0fb79-12c1-4d59-b85e-bf6e380fbf1e",
   "metadata": {},
   "outputs": [],
   "source": [
    "fig = plt.figure(constrained_layout=True, figsize = (12,12))\n",
    "gs = GridSpec(4, 2, figure=fig, width_ratios = [1, 0.025])\n",
    "\n",
    "# create sub plots as grid\n",
    "ax1 = fig.add_subplot(gs[0, 0])\n",
    "cax = fig.add_subplot(gs[0, 1])\n",
    "ax2 = fig.add_subplot(gs[1, 0])\n",
    "ax3 = fig.add_subplot(gs[2, 0])\n",
    "ax4 = fig.add_subplot(gs[3, 0])\n",
    "\n",
    "\n",
    "\n",
    "################ spatio-temporal evolution #########\n",
    "yspace = np.array(range(Nx))\n",
    "xt, ys = np.meshgrid(tt_PHI,yspace)\n",
    "\n",
    "im = ax1.contourf(xt, ys, PHI[0,:,:],15)\n",
    "fig.colorbar(im, cax=cax)\n",
    "\n",
    "ax1.set_ylabel('Space', fontsize=18)\n",
    "ax1.set_xlim((init_i+num_t)*dt, dt*(final_i-num_t))\n",
    "\n",
    "############### variance ##########################\n",
    "\n",
    "ax2.plot(tt_PHI[:],var_s[:], color = 'black', linewidth = 2, alpha = 1)\n",
    "ax2.set_ylabel(r'$\\bar{\\sigma}_u$', fontsize=18)\n",
    "ax2.set_xlim((init_i+num_t)*dt, dt*(final_i-num_t))\n",
    "\n",
    "\n",
    "############## S1 ##################################\n",
    "\n",
    "#axs2 = axs[2].twinx()\n",
    "ax3.plot(tt_measures[:],S1, color = 'tomato', linewidth = 2, alpha = 1)\n",
    "ax3.set_ylabel(r'$S_1$', fontsize=18)\n",
    "ax3.set_xlim((init_i+num_t)*dt, dt*(final_i-num_t))\n",
    "\n",
    "props = dict(boxstyle='round', facecolor='white', alpha=1)\n",
    "ax3.text(0.9, 0.95, r\"$\\gamma =$\"+str(round(measures_nd[\"Gamma\"][gidx_nd],3)), transform=ax3.transAxes, fontsize=14,\n",
    "        verticalalignment='top', bbox=props)\n",
    "\n",
    "############## c2 ##################################\n",
    "\n",
    "ax4.plot(tt_measures[:],c2, color = 'steelblue', linewidth = 2, alpha = 0.3) # facecolors='none', edge\n",
    "ax4.plot(tt_measures[bandwidth:-bandwidth+1],smoothed_c2[:], color = 'steelblue', linewidth = 2, alpha = 1)\n",
    "ax4.set_ylabel(r'$c_2$', fontsize=18)\n",
    "ax4.set_xlim((init_i+num_t)*dt, dt*(final_i-num_t))\n",
    "ax4.set_xlabel('time', fontsize = 18)\n",
    "\n",
    "props = dict(boxstyle='round', facecolor='white', alpha=1)\n",
    "ax4.text(0.9, 0.95, r\"$\\gamma =$\"+str(round(measures_nd[\"Gamma\"][gidx_nd],3)), transform=ax4.transAxes, fontsize=14,\n",
    "        verticalalignment='top', bbox=props)\n",
    "\n",
    "\n",
    "plt.savefig(folder_name+subfolder+'/non-detrended-percolation-measures.png', dpi=600, bbox_inches='tight')"
   ]
  },
  {
   "cell_type": "markdown",
   "id": "11d2fb5d-d3d2-428c-8ee3-90c45f15e644",
   "metadata": {},
   "source": [
    "### detrended data"
   ]
  },
  {
   "cell_type": "code",
   "execution_count": null,
   "id": "c156f871-fc8c-4cef-8bdf-973ec23aff11",
   "metadata": {},
   "outputs": [],
   "source": [
    "# select the threshold value to plot time series for    \n",
    "gidx_d = 9\n",
    "print(\"Chosen threshold for plotting the non-detrended data: \",measures_d[\"Gamma\"][gidx_d])\n",
    "gamma_str_d = str(measures_d[\"Gamma\"][gidx_d])\n",
    "gamma_str_d = gamma_str_d.replace('.', 'p',1)\n",
    "\n",
    "# time series of the percolation measures\n",
    "S1d = measures_d[\"S1\"][gidx_d]\n",
    "c2d = measures_d[\"c2\"][gidx_d]\n",
    "\n",
    "\n",
    "# smooth the c2 curve for claritiy of the figure\n",
    "bandwidth = 15\n",
    "smoothed_c2d = []\n",
    "for t in range(bandwidth, len(c2d)-bandwidth+1):\n",
    "    smoothed_c2d.append(np.mean(c2d[t-bandwidth:t+bandwidth]))\n",
    "smoothed_c2d = np.array(smoothed_c2d)\n"
   ]
  },
  {
   "cell_type": "code",
   "execution_count": null,
   "id": "dfee9f81-8b92-4faa-afb7-b7e4defd7f50",
   "metadata": {},
   "outputs": [],
   "source": [
    "fig = plt.figure(constrained_layout=True, figsize = (12,9))\n",
    "gs = GridSpec(3, 2, figure=fig, width_ratios = [1, 0.025])\n",
    "\n",
    "# create sub plots as grid\n",
    "ax1 = fig.add_subplot(gs[0, 0])\n",
    "cax = fig.add_subplot(gs[0, 1])\n",
    "ax2 = fig.add_subplot(gs[1, 0])\n",
    "ax3 = fig.add_subplot(gs[2, 0])\n",
    "\n",
    "\n",
    "################ spatio-temporal evolution #########\n",
    "yspace = np.array(range(Nx))\n",
    "xt, ys = np.meshgrid(tt_PHI,yspace)\n",
    "\n",
    "im = ax1.contourf(xt, ys, PHI[0,:,:]-smoothed_u,15)\n",
    "fig.colorbar(im, cax=cax)\n",
    "\n",
    "ax1.set_ylabel('Space', fontsize=18)\n",
    "ax1.set_xlim((init_i+num_t)*dt, dt*(final_i-num_t))\n",
    "\n",
    "############## S1 ##################################\n",
    "\n",
    "ax2.plot(tt_measures[:],S1d, color = 'tomato', linewidth = 2, alpha = 1)\n",
    "ax2.set_ylabel(r'$S_1$', fontsize=18)\n",
    "ax2.set_xlim((init_i+num_t)*dt, dt*(final_i-num_t))\n",
    "\n",
    "    \n",
    "props = dict(boxstyle='round', facecolor='white', alpha=1)\n",
    "ax2.text(0.87, 0.95, r\"$\\gamma =$\"+str(round(Gammas_d[gidx_d],3)), transform=ax2.transAxes, fontsize=14,\n",
    "        verticalalignment='top', bbox=props)\n",
    "\n",
    "############## c2 ##################################\n",
    "   \n",
    "ax3.plot(tt_measures[:],c2d, color = 'steelblue', linewidth = 2, alpha = 0.4)\n",
    "ax3.plot(tt_measures[bandwidth:-bandwidth+1],smoothed_c2d[:], color = 'steelblue', linewidth = 2, alpha = 1)\n",
    "ax3.set_ylabel(r'$c_2$', fontsize=18)\n",
    "ax3.set_xlim((init_i+num_t)*dt, dt*(final_i-num_t))\n",
    "ax3.set_xlabel('time', fontsize = 18)\n",
    "\n",
    "    \n",
    "props = dict(boxstyle='round', facecolor='white', alpha=1)\n",
    "ax3.text(0.87, 0.95, r\"$\\gamma =$\"+str(round(Gammas_d[gidx_d],3)), transform=ax3.transAxes, fontsize=14,\n",
    "        verticalalignment='top', bbox=props)\n",
    "\n",
    "plt.savefig(folder_name+subfolder+'/detrended-percolation-measures.png', dpi=600, bbox_inches='tight')"
   ]
  },
  {
   "cell_type": "code",
   "execution_count": null,
   "id": "95cab1d4-cb67-4958-bcc0-5561a417decd",
   "metadata": {},
   "outputs": [],
   "source": []
  },
  {
   "cell_type": "code",
   "execution_count": null,
   "id": "5d00042c-0eef-49bf-8862-ec6a32461f71",
   "metadata": {},
   "outputs": [],
   "source": []
  }
 ],
 "metadata": {
  "kernelspec": {
   "display_name": "Python 3",
   "language": "python",
   "name": "python3"
  },
  "language_info": {
   "codemirror_mode": {
    "name": "ipython",
    "version": 3
   },
   "file_extension": ".py",
   "mimetype": "text/x-python",
   "name": "python",
   "nbconvert_exporter": "python",
   "pygments_lexer": "ipython3",
   "version": "3.7.5"
  }
 },
 "nbformat": 4,
 "nbformat_minor": 5
}
